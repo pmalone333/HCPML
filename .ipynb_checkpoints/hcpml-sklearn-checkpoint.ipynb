{
 "cells": [
  {
   "cell_type": "markdown",
   "metadata": {
    "slideshow": {
     "slide_type": "-"
    }
   },
   "source": [
    "# Can we predict individual differences in behavior from brain activity?\n"
   ]
  },
  {
   "cell_type": "markdown",
   "metadata": {
    "slideshow": {
     "slide_type": "-"
    }
   },
   "source": [
    "Developed at Neurohackweek 2017"
   ]
  },
  {
   "cell_type": "markdown",
   "metadata": {},
   "source": [
    "## Set up the environment and data"
   ]
  },
  {
   "cell_type": "code",
   "execution_count": 460,
   "metadata": {
    "collapsed": true
   },
   "outputs": [],
   "source": [
    "from HCPML_plt import clfAccHist\n",
    "import os\n",
    "import platform\n",
    "import numpy as np\n",
    "import nibabel as nib\n",
    "import multiprocessing\n",
    "import glob"
   ]
  },
  {
   "cell_type": "code",
   "execution_count": 461,
   "metadata": {
    "collapsed": true
   },
   "outputs": [],
   "source": [
    "# location of the data on disk\n",
    "datapath = os.path.abspath('/Users/kevinsitek/Dropbox (MIT)/projects/nhw17/hcp_data_sample/')"
   ]
  },
  {
   "cell_type": "code",
   "execution_count": 462,
   "metadata": {
    "collapsed": true
   },
   "outputs": [],
   "source": [
    "# select the task and parameter estimate files to run\n",
    "task = 'WM' # working memory task\n",
    "pe_list = ['9','10']"
   ]
  },
  {
   "cell_type": "markdown",
   "metadata": {},
   "source": [
    "Import the data:"
   ]
  },
  {
   "cell_type": "code",
   "execution_count": 464,
   "metadata": {
    "scrolled": true
   },
   "outputs": [
    {
     "name": "stderr",
     "output_type": "stream",
     "text": [
      "pixdim[1,2,3] should be non-zero; setting 0 dims to 1\n",
      "pixdim[1,2,3] should be non-zero; setting 0 dims to 1\n",
      "pixdim[1,2,3] should be non-zero; setting 0 dims to 1\n",
      "pixdim[1,2,3] should be non-zero; setting 0 dims to 1\n",
      "pixdim[1,2,3] should be non-zero; setting 0 dims to 1\n",
      "pixdim[1,2,3] should be non-zero; setting 0 dims to 1\n",
      "pixdim[1,2,3] should be non-zero; setting 0 dims to 1\n",
      "pixdim[1,2,3] should be non-zero; setting 0 dims to 1\n",
      "pixdim[1,2,3] should be non-zero; setting 0 dims to 1\n",
      "pixdim[1,2,3] should be non-zero; setting 0 dims to 1\n"
     ]
    },
    {
     "name": "stdout",
     "output_type": "stream",
     "text": [
      "/Users/kevinsitek/Dropbox (MIT)/projects/nhw17/hcp_data_sample/105216\n",
      "/Users/kevinsitek/Dropbox (MIT)/projects/nhw17/hcp_data_sample/105620\n",
      "/Users/kevinsitek/Dropbox (MIT)/projects/nhw17/hcp_data_sample/105923\n",
      "/Users/kevinsitek/Dropbox (MIT)/projects/nhw17/hcp_data_sample/106016\n",
      "/Users/kevinsitek/Dropbox (MIT)/projects/nhw17/hcp_data_sample/106319\n",
      "/Users/kevinsitek/Dropbox (MIT)/projects/nhw17/hcp_data_sample/106521\n"
     ]
    },
    {
     "name": "stderr",
     "output_type": "stream",
     "text": [
      "pixdim[1,2,3] should be non-zero; setting 0 dims to 1\n",
      "pixdim[1,2,3] should be non-zero; setting 0 dims to 1\n",
      "pixdim[1,2,3] should be non-zero; setting 0 dims to 1\n",
      "pixdim[1,2,3] should be non-zero; setting 0 dims to 1\n",
      "pixdim[1,2,3] should be non-zero; setting 0 dims to 1\n",
      "pixdim[1,2,3] should be non-zero; setting 0 dims to 1\n",
      "pixdim[1,2,3] should be non-zero; setting 0 dims to 1\n",
      "pixdim[1,2,3] should be non-zero; setting 0 dims to 1\n",
      "pixdim[1,2,3] should be non-zero; setting 0 dims to 1\n",
      "pixdim[1,2,3] should be non-zero; setting 0 dims to 1\n"
     ]
    },
    {
     "name": "stdout",
     "output_type": "stream",
     "text": [
      "/Users/kevinsitek/Dropbox (MIT)/projects/nhw17/hcp_data_sample/106824\n",
      "/Users/kevinsitek/Dropbox (MIT)/projects/nhw17/hcp_data_sample/107220\n",
      "/Users/kevinsitek/Dropbox (MIT)/projects/nhw17/hcp_data_sample/107321\n",
      "/Users/kevinsitek/Dropbox (MIT)/projects/nhw17/hcp_data_sample/107422\n"
     ]
    }
   ],
   "source": [
    "sub_list=[] # subject index list\n",
    "pe_bin_list=[] # list of (binarized) PEs\n",
    "# add each subject to the data array\n",
    "for sx, subpath in enumerate(glob.glob(datapath+'/*')):    \n",
    "    print subpath\n",
    "    # for each of the two contrasts\n",
    "    for cx,pe in enumerate(pe_list):\n",
    "        sub_list.append(os.path.basename(subpath)) # save the subject ID to a subject list\n",
    "        pe_bin_list.append(cx) # save the (binarized) PE to a PE list\n",
    "        \n",
    "        # load the parameter estimates\n",
    "        fpath = os.path.join(subpath, 'MNINonLinear/Results/tfMRI_%s/'%task,\n",
    "                             'tfMRI_%s_hp200_s2_level2.feat/GrayordinatesStats/'%task,\n",
    "                             'cope%s.feat/pe1.dtseries.nii'%(pe))\n",
    "        pe1 = nib.load(fpath)\n",
    "        \n",
    "        # reshape the data into a 2-D array\n",
    "        sub_pe_data = np.array(pe1.get_data().reshape(pe1.get_data().shape[4:]))\n",
    "        \n",
    "        # add the parameter estimate data to the overall data matrix\n",
    "        if not sx and not cx:\n",
    "            group_data = sub_pe_data\n",
    "        else:\n",
    "            group_data = np.concatenate((group_data, sub_pe_data),axis=0)\n",
    "subjectId_list = np.asarray(subjectId_list)"
   ]
  },
  {
   "cell_type": "markdown",
   "metadata": {},
   "source": [
    "Check the data:"
   ]
  },
  {
   "cell_type": "code",
   "execution_count": 465,
   "metadata": {},
   "outputs": [
    {
     "data": {
      "text/plain": [
       "(20, 91282)"
      ]
     },
     "execution_count": 465,
     "metadata": {},
     "output_type": "execute_result"
    }
   ],
   "source": [
    "group_data.shape"
   ]
  },
  {
   "cell_type": "code",
   "execution_count": 466,
   "metadata": {},
   "outputs": [
    {
     "data": {
      "text/plain": [
       "array([0, 1, 0, 1, 0, 1, 0, 1, 0, 1, 0, 1, 0, 1, 0, 1, 0, 1, 0, 1])"
      ]
     },
     "execution_count": 466,
     "metadata": {},
     "output_type": "execute_result"
    }
   ],
   "source": [
    "np.array(pe_bin_list)"
   ]
  },
  {
   "cell_type": "code",
   "execution_count": 467,
   "metadata": {},
   "outputs": [
    {
     "name": "stdout",
     "output_type": "stream",
     "text": [
      "x shape:  (91282, 20)\n",
      "y shape:  20\n"
     ]
    }
   ],
   "source": [
    "print 'x shape: ', group_data.T.shape\n",
    "print 'y shape: ', len(pe_bin_list)"
   ]
  },
  {
   "cell_type": "markdown",
   "metadata": {},
   "source": [
    "## Run the classifier"
   ]
  },
  {
   "cell_type": "code",
   "execution_count": 320,
   "metadata": {
    "collapsed": true
   },
   "outputs": [],
   "source": [
    "from sklearn.model_selection import train_test_split\n",
    "from sklearn.svm import SVC"
   ]
  },
  {
   "cell_type": "markdown",
   "metadata": {},
   "source": [
    "#### Set aside a master holdout test set"
   ]
  },
  {
   "cell_type": "code",
   "execution_count": 477,
   "metadata": {
    "collapsed": true
   },
   "outputs": [],
   "source": [
    "# split the data for a master holdout test data set\n",
    "def split_data(x, y, sub_list, train_fraction):\n",
    "    import numpy as np\n",
    "    n_subs = len(y)/2\n",
    "    rand_subs = np.random.choice(range(n_subs),n_subs,replace=False)\n",
    "    \n",
    "    rand_indices = []\n",
    "    for i, r in enumerate(rand_subs):\n",
    "        rand_indices.append(r*2)\n",
    "        rand_indices.append(r*2+1)  \n",
    "    Xtrain = x[:int(len(y)*train_fraction),:]\n",
    "    Ytrain = y[:int(len(y)*train_fraction)]\n",
    "    Xtest = x[int(len(y)*train_fraction):,:]\n",
    "    Ytest = y[int(len(y)*train_fraction):]\n",
    "    train_subjects = sub_list[:int(n_subs*train_fraction)]\n",
    "    test_subjects = sub_list[int(n_subs*train_fraction):]    \n",
    "    return Xtrain, Xtest, Ytrain, Ytest, rand_indices, train_subjects, test_subjects\n",
    "\n",
    "Xtrain, Xtest, Ytrain, Ytest, rand_indices, train_subjects, test_subjects = split_data(group_data, pe_bin_list, sub_list, .7)"
   ]
  },
  {
   "cell_type": "code",
   "execution_count": 478,
   "metadata": {},
   "outputs": [
    {
     "data": {
      "text/plain": [
       "['105216', '105216', '105620', '105620', '105923', '105923', '106016']"
      ]
     },
     "execution_count": 478,
     "metadata": {},
     "output_type": "execute_result"
    }
   ],
   "source": [
    "train_subjects"
   ]
  },
  {
   "cell_type": "code",
   "execution_count": 479,
   "metadata": {},
   "outputs": [
    {
     "data": {
      "text/plain": [
       "[16, 17, 8, 9, 4, 5, 14, 15, 12, 13, 0, 1, 6, 7, 18, 19, 2, 3, 10, 11]"
      ]
     },
     "execution_count": 479,
     "metadata": {},
     "output_type": "execute_result"
    }
   ],
   "source": [
    "rand_indices"
   ]
  },
  {
   "cell_type": "code",
   "execution_count": 480,
   "metadata": {},
   "outputs": [
    {
     "data": {
      "text/plain": [
       "(14, 91282)"
      ]
     },
     "execution_count": 480,
     "metadata": {},
     "output_type": "execute_result"
    }
   ],
   "source": [
    "Xtrain.shape"
   ]
  },
  {
   "cell_type": "code",
   "execution_count": 483,
   "metadata": {},
   "outputs": [
    {
     "name": "stdout",
     "output_type": "stream",
     "text": [
      "kr =  0\n",
      "test indices =  [0, 1]\n",
      "train indices =  [ 2  3  4  5  6  7  8  9 10 11 12 13]\n",
      "predicted values:  [0 1]\n",
      "model accuracy:  1.0\n",
      "\n",
      "kr =  1\n",
      "test indices =  [2, 3]\n",
      "train indices =  [ 0  1  4  5  6  7  8  9 10 11 12 13]\n",
      "predicted values:  [0 1]\n",
      "model accuracy:  1.0\n",
      "\n",
      "kr =  2\n",
      "test indices =  [4, 5]\n",
      "train indices =  [ 0  1  2  3  6  7  8  9 10 11 12 13]\n",
      "predicted values:  [0 1]\n",
      "model accuracy:  1.0\n",
      "\n",
      "kr =  3\n",
      "test indices =  [6, 7]\n",
      "train indices =  [ 0  1  2  3  4  5  8  9 10 11 12 13]\n",
      "predicted values:  [1 1]\n",
      "model accuracy:  0.5\n",
      "\n",
      "kr =  4\n",
      "test indices =  [8, 9]\n",
      "train indices =  [ 0  1  2  3  4  5  6  7 10 11 12 13]\n",
      "predicted values:  [0 1]\n",
      "model accuracy:  1.0\n",
      "\n",
      "kr =  5\n",
      "test indices =  [10, 11]\n",
      "train indices =  [ 0  1  2  3  4  5  6  7  8  9 12 13]\n",
      "predicted values:  [0 1]\n",
      "model accuracy:  1.0\n",
      "\n",
      "kr =  6\n",
      "test indices =  [12, 13]\n",
      "train indices =  [ 0  1  2  3  4  5  6  7  8  9 10 11]\n",
      "predicted values:  [1 1]\n",
      "model accuracy:  0.5\n",
      "\n"
     ]
    }
   ],
   "source": [
    "k_folds = 7\n",
    "n_subs = len(Ytrain)/2\n",
    "k_size = n_subs/k_folds\n",
    "\n",
    "predicted_values = np.zeros(len(Ytrain))\n",
    "\n",
    "if n_subs%k_folds:\n",
    "    raise ValueError('subject number not divisible by number of folds')\n",
    "else:\n",
    "    for k in range(k_folds):        \n",
    "        k_pe_indices = []\n",
    "        k_sub_range = range(k*k_size,(k+1)*k_size)\n",
    "        for kr in k_sub_range:\n",
    "            print 'kr = ', kr \n",
    "            k_pe_indices.append(2*kr)\n",
    "            k_pe_indices.append(2*kr+1)\n",
    "\n",
    "        print \"test indices = \", k_pe_indices\n",
    "        cv_Xtest = Xtrain[k_pe_indices,:]\n",
    "        cv_Ytest = [Ytrain[i] for i in k_pe_indices]\n",
    "\n",
    "        train_pe_indices = np.delete(range(len(Ytrain)),k_pe_indices)\n",
    "        print \"train indices = \", train_pe_indices\n",
    "        cv_Xtrain = Xtrain[train_pe_indices]\n",
    "        cv_Ytrain = [Ytrain[i] for i in train_pe_indices]\n",
    "\n",
    "        #import the model\n",
    "        svc = SVC(kernel='linear')\n",
    "\n",
    "        # fit the model on the training data\n",
    "        svc.fit(cv_Xtrain, cv_Ytrain)\n",
    "\n",
    "        # predict the labels of the test data\n",
    "        prediction = svc.predict(cv_Xtest)\n",
    "        print \"predicted values: \", prediction\n",
    "        \n",
    "        predicted_values[k_pe_indices] = prediction\n",
    "        \n",
    "        # check the accuracy of the model's predictions\n",
    "        print \"model accuracy: \", svc.score(cv_Xtest, cv_Ytest)\n",
    "        print \"\""
   ]
  },
  {
   "cell_type": "code",
   "execution_count": 484,
   "metadata": {
    "collapsed": true
   },
   "outputs": [],
   "source": [
    "# import the model\n",
    "svc = SVC(kernel='linear')"
   ]
  },
  {
   "cell_type": "code",
   "execution_count": 485,
   "metadata": {},
   "outputs": [
    {
     "data": {
      "text/plain": [
       "SVC(C=1.0, cache_size=200, class_weight=None, coef0=0.0,\n",
       "  decision_function_shape=None, degree=3, gamma='auto', kernel='linear',\n",
       "  max_iter=-1, probability=False, random_state=None, shrinking=True,\n",
       "  tol=0.001, verbose=False)"
      ]
     },
     "execution_count": 485,
     "metadata": {},
     "output_type": "execute_result"
    }
   ],
   "source": [
    "# fit the model on the training data\n",
    "svc.fit(Xtrain, Ytrain)"
   ]
  },
  {
   "cell_type": "code",
   "execution_count": null,
   "metadata": {
    "collapsed": true
   },
   "outputs": [],
   "source": []
  },
  {
   "cell_type": "markdown",
   "metadata": {
    "collapsed": true
   },
   "source": [
    "## After Classification and Regression"
   ]
  },
  {
   "cell_type": "markdown",
   "metadata": {
    "collapsed": true
   },
   "source": [
    "# Dot Product , Behaviour Data --> Predictive Error"
   ]
  },
  {
   "cell_type": "markdown",
   "metadata": {
    "collapsed": true
   },
   "source": [
    "## Load the Beta Signature from Model"
   ]
  },
  {
   "cell_type": "code",
   "execution_count": 487,
   "metadata": {
    "collapsed": true
   },
   "outputs": [],
   "source": [
    "beta_signature = svc.coef_\n",
    "subs_test = test_subjects\n",
    "subs_test = np.asarray(list(set(subs_test)))"
   ]
  },
  {
   "cell_type": "markdown",
   "metadata": {},
   "source": [
    "## Load behavioral data"
   ]
  },
  {
   "cell_type": "code",
   "execution_count": 488,
   "metadata": {
    "collapsed": true
   },
   "outputs": [],
   "source": [
    "import pandas as pd\n",
    "csvFile = pd.read_csv('HCP_behavioraldata.csv')\n"
   ]
  },
  {
   "cell_type": "markdown",
   "metadata": {},
   "source": [
    "### Functions"
   ]
  },
  {
   "cell_type": "code",
   "execution_count": 489,
   "metadata": {
    "collapsed": true
   },
   "outputs": [],
   "source": [
    "def getBehaviourData(subs_test, df):\n",
    "    subs  = [int(s) for s in subs_test] #convert str to int\n",
    "    allSubjectsIndex = df['Subject']\n",
    "    df2   = df.loc[df['Subject'].isin(subs)]\n",
    "    bdata = df2['ListSort_AgeAdj']\n",
    "\n",
    "    behaviourData = np.asarray(bdata)\n",
    "    behaviourData = np.reshape(behaviourData, [behaviourData.shape[0], 1])\n",
    "    return behaviourData"
   ]
  },
  {
   "cell_type": "code",
   "execution_count": 490,
   "metadata": {
    "collapsed": true
   },
   "outputs": [],
   "source": [
    "def dotProduct(subs_test):\n",
    "    dotProduct = np.zeros([len(subs_test),1])\n",
    "    subs_test = set(subs_test)\n",
    "\n",
    "    for index, s in enumerate(subs_test):\n",
    "        path = os.path.join(datapath, s,\n",
    "                                     'MNINonLinear', 'Results', 'tfMRI_'+task,\n",
    "                                     'tfMRI_'+task+'_hp200_s2_level2.feat',\n",
    "                                     'GrayordinatesStats','cope10.feat','pe1.dtseries.nii')\n",
    "        beta_map  = nib.load(path)\n",
    "        beta_map  = np.array(beta_map.dataobj)\n",
    "        beta_map  = beta_map[0, 0, 0, 0, :, 0:]\n",
    "        dotProduct[index] = np.dot(beta_signature,beta_map.transpose())\n",
    "    return dotProduct"
   ]
  },
  {
   "cell_type": "markdown",
   "metadata": {},
   "source": [
    "## Running Everything"
   ]
  },
  {
   "cell_type": "code",
   "execution_count": 492,
   "metadata": {},
   "outputs": [
    {
     "name": "stderr",
     "output_type": "stream",
     "text": [
      "pixdim[1,2,3] should be non-zero; setting 0 dims to 1\n",
      "pixdim[1,2,3] should be non-zero; setting 0 dims to 1\n",
      "pixdim[1,2,3] should be non-zero; setting 0 dims to 1\n",
      "pixdim[1,2,3] should be non-zero; setting 0 dims to 1\n",
      "pixdim[1,2,3] should be non-zero; setting 0 dims to 1\n",
      "pixdim[1,2,3] should be non-zero; setting 0 dims to 1\n",
      "pixdim[1,2,3] should be non-zero; setting 0 dims to 1\n"
     ]
    },
    {
     "name": "stdout",
     "output_type": "stream",
     "text": [
      "('predictiveError: ', 1903.8465286208664, 'N: ', 50)\n",
      "('predictiveError: ', 0.0, 'N: ', 100)\n",
      "('predictiveError: ', 0.0, 'N: ', 150)\n"
     ]
    }
   ],
   "source": [
    "totalTestSamples = subs_test.shape[0]\n",
    "\n",
    "perm = np.arange(totalTestSamples)\n",
    "np.random.shuffle(perm)\n",
    "subs_test = subs_test[perm]\n",
    "\n",
    "N = [50, 100, 150]\n",
    "PE = []\n",
    "start = 0\n",
    "for n in N:\n",
    "    currentTestSubjects = subs_test[start : start + n]\n",
    "    dp = dotProduct(currentTestSubjects)\n",
    "    beh = getBehaviourData(currentTestSubjects, csvFile)\n",
    "    predictiveError =  np.sum((dp - beh) ** 2) / n\n",
    "    print(\"predictiveError: \", predictiveError, \"N: \", n)\n",
    "    PE.append(predictiveError)    \n",
    "    start = start + n"
   ]
  },
  {
   "cell_type": "markdown",
   "metadata": {},
   "source": [
    "## Plot the Predictive Error"
   ]
  },
  {
   "cell_type": "code",
   "execution_count": 493,
   "metadata": {},
   "outputs": [
    {
     "data": {
      "image/png": "[encoded data removed]",
      "text/plain": [
       "<matplotlib.figure.Figure at 0x116364e90>"
      ]
     },
     "metadata": {},
     "output_type": "display_data"
    }
   ],
   "source": [
    "import matplotlib.pyplot as plt\n",
    "plt.scatter(N, PE)\n",
    "plt.xlabel(\"Number of Samples\")\n",
    "plt.ylabel(\"Predictive Error \")\n",
    "plt.title(\"Effect of Sample Size on Predictive Error on Test Set\")\n",
    "plt.show()"
   ]
  },
  {
   "cell_type": "code",
   "execution_count": null,
   "metadata": {
    "collapsed": true
   },
   "outputs": [],
   "source": []
  }
 ],
 "metadata": {
  "kernelspec": {
   "display_name": "Python 3",
   "language": "python",
   "name": "python3"
  },
  "language_info": {
   "codemirror_mode": {
    "name": "ipython",
    "version": 3
   },
   "file_extension": ".py",
   "mimetype": "text/x-python",
   "name": "python",
   "nbconvert_exporter": "python",
   "pygments_lexer": "ipython3",
   "version": "3.6.1"
  },
  "toc": {
   "nav_menu": {},
   "number_sections": true,
   "sideBar": true,
   "skip_h1_title": false,
   "toc_cell": false,
   "toc_position": {},
   "toc_section_display": "block",
   "toc_window_display": false
  }
 },
 "nbformat": 4,
 "nbformat_minor": 2
}
