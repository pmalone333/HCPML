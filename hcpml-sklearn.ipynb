{
 "cells": [
  {
   "cell_type": "markdown",
   "metadata": {
    "slideshow": {
     "slide_type": "-"
    }
   },
   "source": [
    "# Can we predict individual differences in behavior from brain activity?\n"
   ]
  },
  {
   "cell_type": "markdown",
   "metadata": {
    "slideshow": {
     "slide_type": "-"
    }
   },
   "source": [
    "Developed at Neurohackweek 2017"
   ]
  },
  {
   "cell_type": "markdown",
   "metadata": {},
   "source": [
    "## Set up the environment and data"
   ]
  },
  {
   "cell_type": "code",
   "execution_count": 162,
   "metadata": {},
   "outputs": [],
   "source": [
    "from HCPML_plt import clfAccHist\n",
    "import os\n",
    "import platform\n",
    "import numpy as np\n",
    "import nibabel as nib\n",
    "import multiprocessing\n",
    "import glob"
   ]
  },
  {
   "cell_type": "code",
   "execution_count": 180,
   "metadata": {},
   "outputs": [],
   "source": [
    "# location of the data on disk\n",
    "datapath = os.path.abspath('/Users/kevinsitek/Dropbox (MIT)/projects/nhw17/hcp_data_sample/')"
   ]
  },
  {
   "cell_type": "code",
   "execution_count": 181,
   "metadata": {
    "collapsed": true
   },
   "outputs": [],
   "source": [
    "# select the task and parameter estimate files to run\n",
    "task = 'WM' # working memory task\n",
    "pe_list = ['9','10']"
   ]
  },
  {
   "cell_type": "markdown",
   "metadata": {},
   "source": [
    "Import the data:"
   ]
  },
  {
   "cell_type": "code",
   "execution_count": 183,
   "metadata": {
    "scrolled": true
   },
   "outputs": [
    {
     "name": "stderr",
     "output_type": "stream",
     "text": [
      "pixdim[1,2,3] should be non-zero; setting 0 dims to 1\n",
      "pixdim[1,2,3] should be non-zero; setting 0 dims to 1\n",
      "pixdim[1,2,3] should be non-zero; setting 0 dims to 1\n",
      "pixdim[1,2,3] should be non-zero; setting 0 dims to 1\n",
      "pixdim[1,2,3] should be non-zero; setting 0 dims to 1\n",
      "pixdim[1,2,3] should be non-zero; setting 0 dims to 1\n",
      "pixdim[1,2,3] should be non-zero; setting 0 dims to 1\n",
      "pixdim[1,2,3] should be non-zero; setting 0 dims to 1\n",
      "pixdim[1,2,3] should be non-zero; setting 0 dims to 1\n",
      "pixdim[1,2,3] should be non-zero; setting 0 dims to 1\n",
      "pixdim[1,2,3] should be non-zero; setting 0 dims to 1\n",
      "pixdim[1,2,3] should be non-zero; setting 0 dims to 1\n",
      "pixdim[1,2,3] should be non-zero; setting 0 dims to 1\n",
      "pixdim[1,2,3] should be non-zero; setting 0 dims to 1\n",
      "pixdim[1,2,3] should be non-zero; setting 0 dims to 1\n"
     ]
    },
    {
     "name": "stdout",
     "output_type": "stream",
     "text": [
      "/Users/kevinsitek/Dropbox (MIT)/projects/nhw17/hcp_data_sample/105216\n",
      "/Users/kevinsitek/Dropbox (MIT)/projects/nhw17/hcp_data_sample/105620\n",
      "/Users/kevinsitek/Dropbox (MIT)/projects/nhw17/hcp_data_sample/105923\n",
      "/Users/kevinsitek/Dropbox (MIT)/projects/nhw17/hcp_data_sample/106016\n",
      "/Users/kevinsitek/Dropbox (MIT)/projects/nhw17/hcp_data_sample/106319\n",
      "/Users/kevinsitek/Dropbox (MIT)/projects/nhw17/hcp_data_sample/106521\n",
      "/Users/kevinsitek/Dropbox (MIT)/projects/nhw17/hcp_data_sample/106824\n",
      "/Users/kevinsitek/Dropbox (MIT)/projects/nhw17/hcp_data_sample/107220\n"
     ]
    },
    {
     "name": "stderr",
     "output_type": "stream",
     "text": [
      "pixdim[1,2,3] should be non-zero; setting 0 dims to 1\n",
      "pixdim[1,2,3] should be non-zero; setting 0 dims to 1\n",
      "pixdim[1,2,3] should be non-zero; setting 0 dims to 1\n",
      "pixdim[1,2,3] should be non-zero; setting 0 dims to 1\n",
      "pixdim[1,2,3] should be non-zero; setting 0 dims to 1\n"
     ]
    },
    {
     "name": "stdout",
     "output_type": "stream",
     "text": [
      "/Users/kevinsitek/Dropbox (MIT)/projects/nhw17/hcp_data_sample/107321\n",
      "/Users/kevinsitek/Dropbox (MIT)/projects/nhw17/hcp_data_sample/107422\n"
     ]
    }
   ],
   "source": [
    "sub_list=[] # subject index list\n",
    "pe_bin_list=[] # list of (binarized) PEs\n",
    "\n",
    "# add each subject to the data array\n",
    "for sx, subpath in enumerate(glob.glob(datapath+'/*')):    \n",
    "    print subpath\n",
    "    # for each of the two contrasts\n",
    "    for cx,pe in enumerate(pe_list):\n",
    "        sub_list.append(os.path.basename(subpath)) # save the subject ID to a subject list\n",
    "        pe_bin_list.append(cx) # save the (binarized) PE to a PE list\n",
    "        \n",
    "        # load the parameter estimates\n",
    "        fpath = os.path.join(subpath, 'MNINonLinear/Results/tfMRI_%s/'%task,\n",
    "                             'tfMRI_%s_hp200_s2_level2.feat/GrayordinatesStats/'%task,\n",
    "                             'cope%s.feat/pe1.dtseries.nii'%(pe))\n",
    "        pe1 = nib.load(fpath)\n",
    "        \n",
    "        # reshape the data into a 2-D array\n",
    "        sub_pe_data = np.array(pe1.get_data().reshape(pe1.get_data().shape[4:]))\n",
    "        \n",
    "        # add the parameter estimate data to the overall data matrix\n",
    "        if not sx and not cx:\n",
    "            group_data = sub_pe_data\n",
    "        else:\n",
    "            group_data = np.concatenate((group_data, sub_pe_data),axis=0)"
   ]
  },
  {
   "cell_type": "code",
   "execution_count": 335,
   "metadata": {},
   "outputs": [
    {
     "data": {
      "text/plain": [
       "'107422'"
      ]
     },
     "execution_count": 335,
     "metadata": {},
     "output_type": "execute_result"
    }
   ],
   "source": [
    "os.path.basename(subpath)"
   ]
  },
  {
   "cell_type": "markdown",
   "metadata": {},
   "source": [
    "Check the data:"
   ]
  },
  {
   "cell_type": "code",
   "execution_count": 184,
   "metadata": {},
   "outputs": [
    {
     "data": {
      "text/plain": [
       "(20, 91282)"
      ]
     },
     "execution_count": 184,
     "metadata": {},
     "output_type": "execute_result"
    }
   ],
   "source": [
    "group_data.shape"
   ]
  },
  {
   "cell_type": "code",
   "execution_count": 185,
   "metadata": {},
   "outputs": [
    {
     "data": {
      "text/plain": [
       "array([0, 1, 0, 1, 0, 1, 0, 1, 0, 1, 0, 1, 0, 1, 0, 1, 0, 1, 0, 1])"
      ]
     },
     "execution_count": 185,
     "metadata": {},
     "output_type": "execute_result"
    }
   ],
   "source": [
    "np.array(pe_bin_list)"
   ]
  },
  {
   "cell_type": "code",
   "execution_count": 186,
   "metadata": {},
   "outputs": [
    {
     "name": "stdout",
     "output_type": "stream",
     "text": [
      "x shape:  (91282, 20)\n",
      "y shape:  20\n"
     ]
    }
   ],
   "source": [
    "print 'x shape: ', group_data.T.shape\n",
    "print 'y shape: ', len(pe_bin_list)"
   ]
  },
  {
   "cell_type": "markdown",
   "metadata": {},
   "source": [
    "## Run the classifier"
   ]
  },
  {
   "cell_type": "code",
   "execution_count": 320,
   "metadata": {
    "collapsed": true
   },
   "outputs": [],
   "source": [
    "from sklearn.model_selection import train_test_split\n",
    "from sklearn.svm import SVC"
   ]
  },
  {
   "cell_type": "markdown",
   "metadata": {},
   "source": [
    "#### Set aside a master holdout test set"
   ]
  },
  {
   "cell_type": "code",
   "execution_count": 327,
   "metadata": {},
   "outputs": [],
   "source": [
    "# split the data for a master holdout test data set\n",
    "def split_data(x, y):\n",
    "    import numpy as np\n",
    "    n_subs = len(y)/2\n",
    "    rand_subs = np.random.choice(range(n_subs),n_subs,replace=False)\n",
    "    \n",
    "    rand_indices = []\n",
    "    for i, r in enumerate(rand_subs):\n",
    "        rand_indices.append(r*2)\n",
    "        rand_indices.append(r*2+1)  \n",
    "    Xtrain = x[:n_subs,:]\n",
    "    Ytrain = y[:n_subs]\n",
    "    Xtest = x[n_subs:,:]\n",
    "    Ytest = y[n_subs:]\n",
    "    return Xtrain, Xtest, Ytrain, Ytest, rand_indices\n",
    "\n",
    "Xtrain, Xtest, Ytrain, Ytest, rand_indices = split_data(group_data, pe_bin_list)"
   ]
  },
  {
   "cell_type": "code",
   "execution_count": 328,
   "metadata": {
    "scrolled": true
   },
   "outputs": [
    {
     "data": {
      "text/plain": [
       "[4, 5, 6, 7, 16, 17, 0, 1, 18, 19, 12, 13, 8, 9, 2, 3, 10, 11, 14, 15]"
      ]
     },
     "execution_count": 328,
     "metadata": {},
     "output_type": "execute_result"
    }
   ],
   "source": [
    "rand_indices"
   ]
  },
  {
   "cell_type": "code",
   "execution_count": 329,
   "metadata": {},
   "outputs": [
    {
     "data": {
      "text/plain": [
       "(10, 91282)"
      ]
     },
     "execution_count": 329,
     "metadata": {},
     "output_type": "execute_result"
    }
   ],
   "source": [
    "Xtrain.shape"
   ]
  },
  {
   "cell_type": "markdown",
   "metadata": {},
   "source": [
    "#### Cross-validation"
   ]
  },
  {
   "cell_type": "code",
   "execution_count": 428,
   "metadata": {},
   "outputs": [
    {
     "name": "stdout",
     "output_type": "stream",
     "text": [
      "kr =  0\n",
      "test indices =  [0, 1]\n",
      "train indices =  [2 3 4 5 6 7 8 9]\n",
      "[0 1]\n",
      "1.0\n",
      "model accuracy:  1.0\n",
      "kr =  1\n",
      "test indices =  [2, 3]\n",
      "train indices =  [0 1 4 5 6 7 8 9]\n",
      "[1 1]\n",
      "0.5\n",
      "model accuracy:  0.5\n",
      "kr =  2\n",
      "test indices =  [4, 5]\n",
      "train indices =  [0 1 2 3 6 7 8 9]\n",
      "[0 1]\n",
      "1.0\n",
      "model accuracy:  1.0\n",
      "kr =  3\n",
      "test indices =  [6, 7]\n",
      "train indices =  [0 1 2 3 4 5 8 9]\n",
      "[1 1]\n",
      "0.5\n",
      "model accuracy:  0.5\n",
      "kr =  4\n",
      "test indices =  [8, 9]\n",
      "train indices =  [0 1 2 3 4 5 6 7]\n",
      "[0 1]\n",
      "1.0\n",
      "model accuracy:  1.0\n"
     ]
    }
   ],
   "source": [
    "k_folds = 5\n",
    "n_subs = len(Ytrain)/2\n",
    "k_size = n_subs/k_folds\n",
    "\n",
    "if n_subs%k_folds:\n",
    "    raise ValueError('subject number not divisible by number of folds')\n",
    "else:\n",
    "    for k in range(k_folds):        \n",
    "        k_pe_indices = []\n",
    "        k_sub_range = range(k*k_size,(k+1)*k_size)\n",
    "        for kr in k_sub_range:\n",
    "            print 'kr = ', kr \n",
    "            k_pe_indices.append(2*kr)\n",
    "            k_pe_indices.append(2*kr+1)\n",
    "\n",
    "        print \"test indices = \", k_pe_indices\n",
    "        cv_Xtest = Xtrain[k_pe_indices,:]\n",
    "        cv_Ytest = [Ytrain[i] for i in k_pe_indices]\n",
    "\n",
    "        train_pe_indices = np.delete(range(len(Ytrain)),k_pe_indices)\n",
    "        print \"train indices = \", train_pe_indices\n",
    "        cv_Xtrain = Xtrain[train_pe_indices]\n",
    "        cv_Ytrain = [Ytrain[i] for i in train_pe_indices]\n",
    "\n",
    "        #import the model\n",
    "        svc = SVC(kernel='linear')\n",
    "\n",
    "        # fit the model on the training data\n",
    "        svc.fit(cv_Xtrain, cv_Ytrain)\n",
    "\n",
    "        # predict the labels of the test data\n",
    "        prediction = svc.predict(cv_Xtest)\n",
    "        print prediction\n",
    "\n",
    "        # check the accuracy of the model's predictions\n",
    "        from sklearn.metrics import accuracy_score\n",
    "        print(accuracy_score(cv_Ytest, prediction))\n",
    "\n",
    "        print \"model accuracy: \", svc.score(cv_Xtest, cv_Ytest)"
   ]
  },
  {
   "cell_type": "code",
   "execution_count": 400,
   "metadata": {},
   "outputs": [
    {
     "data": {
      "text/plain": [
       "[4, 5]"
      ]
     },
     "execution_count": 400,
     "metadata": {},
     "output_type": "execute_result"
    }
   ],
   "source": [
    "k_pe_indices"
   ]
  },
  {
   "cell_type": "code",
   "execution_count": null,
   "metadata": {
    "collapsed": true
   },
   "outputs": [],
   "source": []
  },
  {
   "cell_type": "code",
   "execution_count": null,
   "metadata": {
    "collapsed": true
   },
   "outputs": [],
   "source": [
    "#convert feature weights to numpy array and save\n",
    "sens_out = np.asarray(sens)\n",
    "np.save(os.path.join(out_path,'cv_results',\n",
    "                     '%dsubs_%s_CV_%s_ftrWghts'%(nsubs, cv_type, clf_type)),\n",
    "        sens_out)"
   ]
  },
  {
   "cell_type": "code",
   "execution_count": 272,
   "metadata": {},
   "outputs": [
    {
     "ename": "NameError",
     "evalue": "name 'subs_test' is not defined",
     "output_type": "error",
     "traceback": [
      "\u001b[0;31m---------------------------------------------------------------------------\u001b[0m",
      "\u001b[0;31mNameError\u001b[0m                                 Traceback (most recent call last)",
      "\u001b[0;32m<ipython-input-272-d45b78e6373f>\u001b[0m in \u001b[0;36m<module>\u001b[0;34m()\u001b[0m\n\u001b[1;32m      1\u001b[0m \u001b[0;31m#feature weights x 2bk>0bk beta map\u001b[0m\u001b[0;34m\u001b[0m\u001b[0;34m\u001b[0m\u001b[0m\n\u001b[0;32m----> 2\u001b[0;31m \u001b[0mdp\u001b[0m \u001b[0;34m=\u001b[0m \u001b[0mnp\u001b[0m\u001b[0;34m.\u001b[0m\u001b[0mzeros\u001b[0m\u001b[0;34m(\u001b[0m\u001b[0;34m[\u001b[0m\u001b[0mlen\u001b[0m\u001b[0;34m(\u001b[0m\u001b[0msubs_test\u001b[0m\u001b[0;34m)\u001b[0m\u001b[0;34m,\u001b[0m\u001b[0;36m1\u001b[0m\u001b[0;34m]\u001b[0m\u001b[0;34m)\u001b[0m\u001b[0;34m\u001b[0m\u001b[0m\n\u001b[0m\u001b[1;32m      3\u001b[0m \u001b[0;32mfor\u001b[0m \u001b[0mindex\u001b[0m\u001b[0;34m,\u001b[0m \u001b[0ms\u001b[0m \u001b[0;32min\u001b[0m \u001b[0menumerate\u001b[0m\u001b[0;34m(\u001b[0m\u001b[0msubs_test\u001b[0m\u001b[0;34m)\u001b[0m\u001b[0;34m:\u001b[0m\u001b[0;34m\u001b[0m\u001b[0m\n\u001b[1;32m      4\u001b[0m     path = os.path.join(beta_path, s,\n\u001b[1;32m      5\u001b[0m                                  \u001b[0;34m'MNINonLinear'\u001b[0m\u001b[0;34m,\u001b[0m \u001b[0;34m'Results'\u001b[0m\u001b[0;34m,\u001b[0m \u001b[0;34m'tfMRI_'\u001b[0m\u001b[0;34m+\u001b[0m\u001b[0mtask\u001b[0m\u001b[0;34m,\u001b[0m\u001b[0;34m\u001b[0m\u001b[0m\n",
      "\u001b[0;31mNameError\u001b[0m: name 'subs_test' is not defined"
     ]
    }
   ],
   "source": [
    "#feature weights x 2bk>0bk beta map\n",
    "dp = np.zeros([len(subs_test),1])\n",
    "for index, s in enumerate(subs_test):\n",
    "    path = os.path.join(beta_path, s,\n",
    "                                 'MNINonLinear', 'Results', 'tfMRI_'+task,\n",
    "                                 'tfMRI_'+task+'_hp200_s2_level2.feat',\n",
    "                                 'GrayordinatesStats','cope11.feat','pe1.dtseries.nii')\n",
    "    beta_map  = nib.load(path)\n",
    "    beta_map  = np.array(beta_map.dataobj)\n",
    "    beta_map  = beta_map[0, 0, 0, 0, :, 0:]\n",
    "    dp[index] = np.dot(sens_out,beta_map.transpose())"
   ]
  },
  {
   "cell_type": "code",
   "execution_count": null,
   "metadata": {
    "collapsed": true
   },
   "outputs": [],
   "source": [
    "#load behavioral data\n",
    "df    = pd.read_csv('HCP_behavioraldata.csv')\n",
    "subs  = [int(s) for s in subs_test] #convert str to int\n",
    "df2   = df.loc[df['Subject'].isin(subs_test)]\n",
    "bdata = df2.ListSort_AgeAdj\n",
    "bdata = bdata.reshape(30,1)\n"
   ]
  },
  {
   "cell_type": "code",
   "execution_count": null,
   "metadata": {
    "collapsed": true
   },
   "outputs": [],
   "source": [
    "# correlate predicted brain with behavioral measure\n",
    "from scipy.stats import pearsonr\n",
    "r, p = pearsonr(brain, behavior)"
   ]
  },
  {
   "cell_type": "code",
   "execution_count": null,
   "metadata": {
    "collapsed": true
   },
   "outputs": [],
   "source": []
  }
 ],
 "metadata": {
  "kernelspec": {
   "display_name": "Python 2",
   "language": "python",
   "name": "python2"
  },
  "language_info": {
   "codemirror_mode": {
    "name": "ipython",
    "version": 2
   },
   "file_extension": ".py",
   "mimetype": "text/x-python",
   "name": "python",
   "nbconvert_exporter": "python",
   "pygments_lexer": "ipython2",
   "version": "2.7.13"
  },
  "toc": {
   "nav_menu": {},
   "number_sections": true,
   "sideBar": true,
   "skip_h1_title": false,
   "toc_cell": false,
   "toc_position": {},
   "toc_section_display": "block",
   "toc_window_display": false
  }
 },
 "nbformat": 4,
 "nbformat_minor": 2
}
